{
 "cells": [
  {
   "cell_type": "code",
   "id": "initial_id",
   "metadata": {
    "collapsed": true,
    "ExecuteTime": {
     "end_time": "2024-07-24T12:46:19.515220Z",
     "start_time": "2024-07-24T12:46:19.511244Z"
    }
   },
   "source": "import requests",
   "outputs": [],
   "execution_count": 9
  },
  {
   "metadata": {
    "ExecuteTime": {
     "end_time": "2024-07-24T12:46:17.965099Z",
     "start_time": "2024-07-24T12:46:16.877361Z"
    }
   },
   "cell_type": "code",
   "source": [
    "api = \"https://wolnelektury.pl/api/\"\n",
    "authors = [\"henryk-sienkiewicz\", \"wladyslaw-stanislaw-reymont\"]\n",
    "book_hrefs = []\n",
    "\n",
    "for author in authors:\n",
    "    response = requests.get(api + \"authors/\" + author + \"/books\")\n",
    "    response = response.json()\n",
    "    for book in response:\n",
    "        book_hrefs.append(book[\"href\"])"
   ],
   "id": "600029235af9f8d2",
   "outputs": [],
   "execution_count": 8
  },
  {
   "metadata": {
    "ExecuteTime": {
     "end_time": "2024-07-24T11:16:24.349545Z",
     "start_time": "2024-07-24T11:15:37.157361Z"
    }
   },
   "cell_type": "code",
   "source": [
    "for book in book_hrefs:\n",
    "    book_title = book.split(\"/\")[-2]\n",
    "    response = requests.get(book)\n",
    "    response = response.json()\n",
    "    if response[\"txt\"]:\n",
    "        book_text = requests.get(response[\"txt\"])\n",
    "        with open(f\"raw_txt/{book_title}.txt\", \"wb\") as fd:\n",
    "            for chunk in book_text.iter_content(chunk_size=128):\n",
    "                fd.write(chunk)\n",
    "    elif response[\"epub\"]:\n",
    "        book_text = requests.get(response[\"epub\"])\n",
    "        with open(f\"raw_epub/{book_title}.epub\", \"wb\") as fd:\n",
    "            for chunk in book_text.iter_content(chunk_size=128):\n",
    "                fd.write(chunk)\n",
    "    elif response[\"pdf\"]:\n",
    "        book_text = requests.get(response[\"pdf\"])\n",
    "        with open(f\"raw_pdf/{book_title}.pdf\", \"wb\") as fd:\n",
    "            for chunk in book_text.iter_content(chunk_size=128):\n",
    "                fd.write(chunk)\n",
    "    else:\n",
    "        print(f\"Cannot get {book_title}. No parsable formats available\")"
   ],
   "id": "193a9487157d5399",
   "outputs": [],
   "execution_count": 7
  },
  {
   "metadata": {
    "ExecuteTime": {
     "end_time": "2024-07-24T15:22:08.061280Z",
     "start_time": "2024-07-24T15:22:08.020161Z"
    }
   },
   "cell_type": "code",
   "source": [
    "max_l = 0\n",
    "min_l = 100000\n",
    "for line in full_text:\n",
    "    if max_l < len(line):\n",
    "        max_l = len(line)\n",
    "    if min_l > len(line):\n",
    "        min_l = len(line)"
   ],
   "id": "d9b20c455f755014",
   "outputs": [],
   "execution_count": 77
  },
  {
   "metadata": {
    "ExecuteTime": {
     "end_time": "2024-07-24T15:22:09.399405Z",
     "start_time": "2024-07-24T15:22:09.393240Z"
    }
   },
   "cell_type": "code",
   "source": "max_l",
   "id": "7c4ca1c847eae855",
   "outputs": [
    {
     "data": {
      "text/plain": [
       "1992"
      ]
     },
     "execution_count": 78,
     "metadata": {},
     "output_type": "execute_result"
    }
   ],
   "execution_count": 78
  },
  {
   "metadata": {
    "ExecuteTime": {
     "end_time": "2024-07-24T15:22:19.961480Z",
     "start_time": "2024-07-24T15:22:19.956533Z"
    }
   },
   "cell_type": "code",
   "source": "min_l",
   "id": "554e78166843d81c",
   "outputs": [
    {
     "data": {
      "text/plain": [
       "1"
      ]
     },
     "execution_count": 79,
     "metadata": {},
     "output_type": "execute_result"
    }
   ],
   "execution_count": 79
  }
 ],
 "metadata": {
  "kernelspec": {
   "display_name": "Python 3",
   "language": "python",
   "name": "python3"
  },
  "language_info": {
   "codemirror_mode": {
    "name": "ipython",
    "version": 2
   },
   "file_extension": ".py",
   "mimetype": "text/x-python",
   "name": "python",
   "nbconvert_exporter": "python",
   "pygments_lexer": "ipython2",
   "version": "2.7.6"
  }
 },
 "nbformat": 4,
 "nbformat_minor": 5
}
